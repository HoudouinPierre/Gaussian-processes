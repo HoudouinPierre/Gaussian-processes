{
 "cells": [
  {
   "cell_type": "code",
   "execution_count": 1,
   "id": "451703e3",
   "metadata": {},
   "outputs": [],
   "source": [
    "import sys\n",
    "sys.path.append(\"C:/Users/Pierre Houdouin/Desktop/Gaussian process/Code\")\n",
    "from samplers import SyntheticSampler"
   ]
  },
  {
   "cell_type": "markdown",
   "id": "21fcdbb3",
   "metadata": {},
   "source": [
    "# Parameters"
   ]
  },
  {
   "cell_type": "code",
   "execution_count": 5,
   "id": "4c18f15f",
   "metadata": {},
   "outputs": [],
   "source": [
    "### Data generation\n",
    "input_dimension     = 3\n",
    "x_length            = 1\n",
    "function_name       = \"heaviside\"\n",
    "function_parameters = {\"power sinus\"      : {\"Power\"        : 2},\n",
    "                       \"heaviside\"        : {\"x gaps\"       : [0, 0.5, 1], \n",
    "                                             \"y values\"     : [0, -0.5], \n",
    "                                             \"sigma noises\" : [0.01, 0.01]},\n",
    "                       \"multimodal sinus\" : {\"x gaps\"       : [0, 3, 6, 10], \n",
    "                                             \"speed values\" : [10, 30, 60]},\n",
    "                       }\n",
    "\n",
    "N_function          = 100\n",
    "N_observed          = 10"
   ]
  },
  {
   "cell_type": "markdown",
   "id": "e1115d27",
   "metadata": {},
   "source": [
    "# Synthetic data generation"
   ]
  },
  {
   "cell_type": "code",
   "execution_count": 6,
   "id": "335cec58",
   "metadata": {},
   "outputs": [],
   "source": [
    "synthetic_sampler = SyntheticSampler(input_dimension, x_length, function_name, function_parameters)\n",
    "function_samples  = synthetic_sampler.sample(N_function)\n",
    "observed_samples  = synthetic_sampler.extract_from_samples(N_observed, function_samples)"
   ]
  },
  {
   "cell_type": "code",
   "execution_count": 7,
   "id": "09105b79",
   "metadata": {},
   "outputs": [
    {
     "data": {
      "text/plain": [
       "[{'x': array([0.88320679, 0.46413306, 0.22027025]), 'y': -0.4915299839534297},\n",
       " {'x': array([0.06351166, 0.06135925, 0.42859226]),\n",
       "  'y': -0.00027941076314129187},\n",
       " {'x': array([0.84490264, 0.7599604 , 0.2479506 ]), 'y': -0.5111024879868621},\n",
       " {'x': array([0.36834122, 0.93599019, 0.11191724]),\n",
       "  'y': -0.002197151386607596},\n",
       " {'x': array([0.53908076, 0.91354265, 0.78788762]), 'y': -0.5049778337323977},\n",
       " {'x': array([0.13502399, 0.87527622, 0.10091153]),\n",
       "  'y': -0.005088584009311607},\n",
       " {'x': array([0.46010752, 0.88852382, 0.29911727]),\n",
       "  'y': -0.0014827881020623125},\n",
       " {'x': array([0.10267557, 0.72895493, 0.41446413]), 'y': 0.01627701660274398},\n",
       " {'x': array([0.98362063, 0.43491757, 0.10583599]), 'y': -0.5035313669731754},\n",
       " {'x': array([0.33778607, 0.86005719, 0.26687604]), 'y': 0.01815555435156731}]"
      ]
     },
     "execution_count": 7,
     "metadata": {},
     "output_type": "execute_result"
    }
   ],
   "source": [
    "observed_samples"
   ]
  },
  {
   "cell_type": "code",
   "execution_count": null,
   "id": "45469b76",
   "metadata": {},
   "outputs": [],
   "source": []
  },
  {
   "cell_type": "code",
   "execution_count": null,
   "id": "0ecf305b",
   "metadata": {},
   "outputs": [],
   "source": []
  }
 ],
 "metadata": {
  "kernelspec": {
   "display_name": "Python 3 (ipykernel)",
   "language": "python",
   "name": "python3"
  },
  "language_info": {
   "codemirror_mode": {
    "name": "ipython",
    "version": 3
   },
   "file_extension": ".py",
   "mimetype": "text/x-python",
   "name": "python",
   "nbconvert_exporter": "python",
   "pygments_lexer": "ipython3",
   "version": "3.9.13"
  }
 },
 "nbformat": 4,
 "nbformat_minor": 5
}
