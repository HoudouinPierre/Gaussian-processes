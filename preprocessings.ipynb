{
 "cells": [
  {
   "cell_type": "code",
   "execution_count": 1,
   "id": "451703e3",
   "metadata": {},
   "outputs": [],
   "source": [
    "import sys\n",
    "sys.path.append(\"C:/Users/Pierre Houdouin/Desktop/Gaussian process/Code\")\n",
    "from samplers import SyntheticSampler\n",
    "from preprocessings import preprocessing"
   ]
  },
  {
   "cell_type": "markdown",
   "id": "21fcdbb3",
   "metadata": {},
   "source": [
    "# Parameters"
   ]
  },
  {
   "cell_type": "code",
   "execution_count": 2,
   "id": "4c18f15f",
   "metadata": {},
   "outputs": [],
   "source": [
    "### Data generation\n",
    "input_dimension     = 3\n",
    "x_length            = 10\n",
    "function_name       = \"multimodal sinus\"\n",
    "function_parameters = {\"power sinus\"      : {\"Power\"        : 2},\n",
    "                       \"heaviside\"        : {\"x gaps\"       : [0, 0.5, 1], \n",
    "                                             \"y values\"     : [0, -0.5], \n",
    "                                             \"sigma noises\" : [0.01, 0.01]},\n",
    "                       \"multimodal sinus\" : {\"x gaps\"       : [0, 3, 6, 10], \n",
    "                                             \"speed values\" : [10, 30, 60]},\n",
    "                       }\n",
    "\n",
    "N_function          = 100\n",
    "N_observed          = 10"
   ]
  },
  {
   "cell_type": "markdown",
   "id": "e1115d27",
   "metadata": {},
   "source": [
    "# Data generation"
   ]
  },
  {
   "cell_type": "code",
   "execution_count": 3,
   "id": "335cec58",
   "metadata": {},
   "outputs": [],
   "source": [
    "synthetic_sampler = SyntheticSampler(input_dimension, x_length, function_name, function_parameters)\n",
    "function_samples  = synthetic_sampler.sample(N_function)\n",
    "observed_samples  = synthetic_sampler.extract_from_samples(N_observed, function_samples)"
   ]
  },
  {
   "cell_type": "markdown",
   "id": "7137e250",
   "metadata": {},
   "source": [
    "# GPMP Preprocessing"
   ]
  },
  {
   "cell_type": "code",
   "execution_count": 4,
   "id": "09105b79",
   "metadata": {
    "scrolled": false
   },
   "outputs": [
    {
     "data": {
      "text/plain": [
       "(array([[1.4161585 , 4.74039688, 3.81543422],\n",
       "        [5.64822725, 3.89699612, 1.08232632],\n",
       "        [8.55837368, 8.86186753, 5.65108596],\n",
       "        [1.9030789 , 4.44160055, 1.17199507],\n",
       "        [0.73573142, 3.39693133, 2.39316519],\n",
       "        [3.95866761, 1.4128305 , 5.22954998],\n",
       "        [6.37892936, 1.20732617, 6.23206097],\n",
       "        [2.9352811 , 7.61694905, 6.23746531],\n",
       "        [9.85759999, 7.57262022, 9.06357158],\n",
       "        [3.42567908, 6.04717433, 6.76279585]]),\n",
       " array([-0.9821646 , -0.88671517,  0.98272013,  0.86627215,  0.99864721,\n",
       "         0.19627878,  0.58264106, -0.60315708, -0.71816012,  0.42280717]))"
      ]
     },
     "execution_count": 4,
     "metadata": {},
     "output_type": "execute_result"
    }
   ],
   "source": [
    "library                                        = \"GPMP\"\n",
    "X_function, X_observed, Y_function, Y_observed = preprocessing(library, function_samples, observed_samples)\n",
    "X_observed, Y_observed"
   ]
  },
  {
   "cell_type": "markdown",
   "id": "d30474de",
   "metadata": {},
   "source": [
    "# SKlearn Preprocessing"
   ]
  },
  {
   "cell_type": "code",
   "execution_count": 5,
   "id": "14eb5a23",
   "metadata": {},
   "outputs": [
    {
     "data": {
      "text/plain": [
       "(array([[1.4161585 , 4.74039688, 3.81543422],\n",
       "        [5.64822725, 3.89699612, 1.08232632],\n",
       "        [8.55837368, 8.86186753, 5.65108596],\n",
       "        [1.9030789 , 4.44160055, 1.17199507],\n",
       "        [0.73573142, 3.39693133, 2.39316519],\n",
       "        [3.95866761, 1.4128305 , 5.22954998],\n",
       "        [6.37892936, 1.20732617, 6.23206097],\n",
       "        [2.9352811 , 7.61694905, 6.23746531],\n",
       "        [9.85759999, 7.57262022, 9.06357158],\n",
       "        [3.42567908, 6.04717433, 6.76279585]]),\n",
       " array([-0.9821646 , -0.88671517,  0.98272013,  0.86627215,  0.99864721,\n",
       "         0.19627878,  0.58264106, -0.60315708, -0.71816012,  0.42280717]))"
      ]
     },
     "execution_count": 5,
     "metadata": {},
     "output_type": "execute_result"
    }
   ],
   "source": [
    "library                                        = \"SKlearn\"\n",
    "X_function, X_observed, Y_function, Y_observed = preprocessing(library, function_samples, observed_samples)\n",
    "X_observed, Y_observed"
   ]
  },
  {
   "cell_type": "markdown",
   "id": "52bf3616",
   "metadata": {},
   "source": [
    "# GPyTorch"
   ]
  },
  {
   "cell_type": "code",
   "execution_count": 6,
   "id": "7d810508",
   "metadata": {},
   "outputs": [
    {
     "data": {
      "text/plain": [
       "(tensor([[1.4162, 4.7404, 3.8154],\n",
       "         [5.6482, 3.8970, 1.0823],\n",
       "         [8.5584, 8.8619, 5.6511],\n",
       "         [1.9031, 4.4416, 1.1720],\n",
       "         [0.7357, 3.3969, 2.3932],\n",
       "         [3.9587, 1.4128, 5.2295],\n",
       "         [6.3789, 1.2073, 6.2321],\n",
       "         [2.9353, 7.6169, 6.2375],\n",
       "         [9.8576, 7.5726, 9.0636],\n",
       "         [3.4257, 6.0472, 6.7628]], dtype=torch.float64),\n",
       " tensor([-0.9822, -0.8867,  0.9827,  0.8663,  0.9986,  0.1963,  0.5826, -0.6032,\n",
       "         -0.7182,  0.4228], dtype=torch.float64))"
      ]
     },
     "execution_count": 6,
     "metadata": {},
     "output_type": "execute_result"
    }
   ],
   "source": [
    "library                                        = \"GPyTorch\"\n",
    "X_function, X_observed, Y_function, Y_observed = preprocessing(library, function_samples, observed_samples)\n",
    "X_observed, Y_observed"
   ]
  },
  {
   "cell_type": "code",
   "execution_count": null,
   "id": "cdee6e83",
   "metadata": {},
   "outputs": [],
   "source": []
  }
 ],
 "metadata": {
  "kernelspec": {
   "display_name": "Python 3 (ipykernel)",
   "language": "python",
   "name": "python3"
  },
  "language_info": {
   "codemirror_mode": {
    "name": "ipython",
    "version": 3
   },
   "file_extension": ".py",
   "mimetype": "text/x-python",
   "name": "python",
   "nbconvert_exporter": "python",
   "pygments_lexer": "ipython3",
   "version": "3.9.13"
  }
 },
 "nbformat": 4,
 "nbformat_minor": 5
}
